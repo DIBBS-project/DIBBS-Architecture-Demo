{
 "cells": [
  {
   "cell_type": "code",
   "execution_count": 1,
   "metadata": {
    "collapsed": true
   },
   "outputs": [],
   "source": [
    "import base64\n",
    "import getpass\n",
    "import json\n",
    "\n",
    "import requests"
   ]
  },
  {
   "cell_type": "code",
   "execution_count": 2,
   "metadata": {
    "collapsed": true
   },
   "outputs": [],
   "source": [
    "username = 'alice'\n",
    "password = username.upper()"
   ]
  },
  {
   "cell_type": "code",
   "execution_count": 3,
   "metadata": {
    "collapsed": true
   },
   "outputs": [],
   "source": [
    "CAS = 'http://localhost:7000'\n",
    "RM = 'http://localhost:8002'\n",
    "AR = 'http://localhost:8003'"
   ]
  },
  {
   "cell_type": "code",
   "execution_count": 5,
   "metadata": {
    "collapsed": false
   },
   "outputs": [],
   "source": [
    "response = requests.post(CAS + '/auth/tokens', json={'username': username, 'password': password})\n",
    "token = response.json()['token']"
   ]
  },
  {
   "cell_type": "code",
   "execution_count": 6,
   "metadata": {
    "collapsed": false
   },
   "outputs": [],
   "source": [
    "response = requests.get(AR + '/sites/')\n",
    "assert response.status_code == 200\n",
    "sites = response.json()"
   ]
  },
  {
   "cell_type": "code",
   "execution_count": 7,
   "metadata": {
    "collapsed": false
   },
   "outputs": [],
   "source": [
    "response = requests.post(AR + '/sites/', \n",
    "    headers={'Dibbs-Authorization': token},\n",
    "    json={\n",
    "        'name': 'roger',\n",
    "        'type': 'openstack',\n",
    "        'api_url': 'http://roger-openstack.ncsa.illinois.edu:5000/v2.0',\n",
    "    },\n",
    ")\n",
    "assert response.status_code == 201\n",
    "site = response.json()"
   ]
  },
  {
   "cell_type": "code",
   "execution_count": 8,
   "metadata": {
    "collapsed": true
   },
   "outputs": [],
   "source": [
    "apps = requests.get(AR + '/appliances/').json()"
   ]
  },
  {
   "cell_type": "code",
   "execution_count": 9,
   "metadata": {
    "collapsed": false
   },
   "outputs": [],
   "source": [
    "#requests.delete(AR + '/appliances/{}/'.format(apps[0]['id']),\n",
    "#                headers={'Dibbs-Authorization': token},\n",
    "#)"
   ]
  },
  {
   "cell_type": "code",
   "execution_count": 10,
   "metadata": {
    "collapsed": false
   },
   "outputs": [],
   "source": [
    "response = requests.post(AR + '/appliances/', \n",
    "    headers={'Dibbs-Authorization': token},\n",
    "    json={\n",
    "        'name': 'hadoop',\n",
    "        'description': 'Named after an Elephant from the San Diego zoo',\n",
    "    },\n",
    ")\n",
    "assert response.status_code == 201\n",
    "app = response.json()"
   ]
  },
  {
   "cell_type": "code",
   "execution_count": 12,
   "metadata": {
    "collapsed": false
   },
   "outputs": [],
   "source": [
    "with open('appliances/hadoop-roger.yml', 'r') as f:\n",
    "    template = f.read()\n",
    "\n",
    "response = requests.post(AR + '/implementations/', \n",
    "    headers={'Dibbs-Authorization': token},\n",
    "    json={\n",
    "        'appliance': app['id'],\n",
    "        'site': site['id'],\n",
    "        'script': template\n",
    "    },\n",
    ")\n",
    "assert response.status_code == 201\n",
    "imp = response.json()"
   ]
  },
  {
   "cell_type": "code",
   "execution_count": 13,
   "metadata": {
    "collapsed": false
   },
   "outputs": [],
   "source": [
    "import subprocess\n",
    "\n",
    "def obfuscate(data):\n",
    "    return base64.b64encode(json.dumps(data).encode('utf-8')).decode('utf-8')\n",
    "\n",
    "roger_pass = subprocess.check_output('ssh roger \"cat ~/.openstack\"', shell=True, universal_newlines=True).strip()\n",
    "creds = {\n",
    "    'username': 'npt',\n",
    "    'password': roger_pass,\n",
    "    'project_name': 'DIBBs',\n",
    "}\n",
    "cred_string = obfuscate(creds)"
   ]
  },
  {
   "cell_type": "code",
   "execution_count": 14,
   "metadata": {
    "collapsed": false
   },
   "outputs": [],
   "source": [
    "response = requests.post(RM + '/credentials/',\n",
    "    headers={'Dibbs-Authorization': token},\n",
    "    json={\n",
    "        'name': 'me-keys',\n",
    "        'site': site['id'],\n",
    "        'credentials': cred_string,\n",
    "    }\n",
    ")\n",
    "assert response.status_code == 201\n",
    "creds = response.json()"
   ]
  },
  {
   "cell_type": "code",
   "execution_count": 15,
   "metadata": {
    "collapsed": false
   },
   "outputs": [],
   "source": [
    "response = requests.post(RM + '/clusters/',\n",
    "    headers={'Dibbs-Authorization': token},\n",
    "    json={\n",
    "        'credential': creds['id'],\n",
    "        'implementation': imp['id'],\n",
    "    }\n",
    ")\n",
    "assert response.status_code == 201\n",
    "cluster = response.json()"
   ]
  },
  {
   "cell_type": "code",
   "execution_count": 16,
   "metadata": {
    "collapsed": false
   },
   "outputs": [
    {
     "data": {
      "text/plain": [
       "{'address': '',\n",
       " 'credential': 'b5080ecb-7156-42ef-bf63-a851258edab4',\n",
       " 'id': 'ab69db79-4a5a-4e96-aff0-b1abb3410f51',\n",
       " 'implementation': '3b3770b4-28fd-48d3-a338-4f7225dc11b0',\n",
       " 'remote_id': 'faebced3-e85c-4f05-91a5-08ac179b350f',\n",
       " 'remote_status': 'CREATE_IN_PROGRESS',\n",
       " 'root_owner': 1,\n",
       " 'status': 'BUILDING'}"
      ]
     },
     "execution_count": 16,
     "metadata": {},
     "output_type": "execute_result"
    }
   ],
   "source": [
    "cluster"
   ]
  },
  {
   "cell_type": "code",
   "execution_count": 25,
   "metadata": {
    "collapsed": false
   },
   "outputs": [
    {
     "data": {
      "text/plain": [
       "204"
      ]
     },
     "execution_count": 25,
     "metadata": {},
     "output_type": "execute_result"
    }
   ],
   "source": [
    "response = requests.delete(RM + '/clusters/{}/'.format(cluster['id']),\n",
    "    headers={'Dibbs-Authorization': token},\n",
    ")\n",
    "response.status_code"
   ]
  },
  {
   "cell_type": "code",
   "execution_count": 32,
   "metadata": {
    "collapsed": false
   },
   "outputs": [
    {
     "data": {
      "text/plain": [
       "[{'address': '',\n",
       "  'credential': 'b5080ecb-7156-42ef-bf63-a851258edab4',\n",
       "  'id': '221e4305-d98c-4f43-9953-31087230c606',\n",
       "  'implementation': '3b3770b4-28fd-48d3-a338-4f7225dc11b0',\n",
       "  'remote_id': '257cbb79-89a9-4275-bb4f-6b508b0918d6',\n",
       "  'remote_status': 'CREATE_IN_PROGRESS',\n",
       "  'root_owner': 1,\n",
       "  'status': 'BUILDING'}]"
      ]
     },
     "execution_count": 32,
     "metadata": {},
     "output_type": "execute_result"
    }
   ],
   "source": [
    "requests.get(RM + '/clusters/').json()"
   ]
  },
  {
   "cell_type": "code",
   "execution_count": 27,
   "metadata": {
    "collapsed": false
   },
   "outputs": [],
   "source": [
    "response = requests.post(RM + '/resources/', \n",
    "    headers={'Dibbs-Authorization': token},\n",
    "    json={\n",
    "        'hints': {\n",
    "            'implementation': imp['id'],\n",
    "            'credentials': creds['id'],\n",
    "        },\n",
    "    }\n",
    ")\n",
    "assert response.status_code == 201\n",
    "resource = response.json()"
   ]
  },
  {
   "cell_type": "code",
   "execution_count": 33,
   "metadata": {
    "collapsed": false
   },
   "outputs": [
    {
     "data": {
      "text/plain": [
       "{'cluster': '221e4305-d98c-4f43-9953-31087230c606',\n",
       " 'hints': '{\"implementation\": \"3b3770b4-28fd-48d3-a338-4f7225dc11b0\", \"credentials\": \"b5080ecb-7156-42ef-bf63-a851258edab4\"}',\n",
       " 'id': '4e19eb20-7209-4c35-be7b-a481972a7ea6',\n",
       " 'password': '',\n",
       " 'user': 1,\n",
       " 'username': ''}"
      ]
     },
     "execution_count": 33,
     "metadata": {},
     "output_type": "execute_result"
    }
   ],
   "source": [
    "resource"
   ]
  },
  {
   "cell_type": "code",
   "execution_count": 34,
   "metadata": {
    "collapsed": false
   },
   "outputs": [
    {
     "data": {
      "text/plain": [
       "200"
      ]
     },
     "execution_count": 34,
     "metadata": {},
     "output_type": "execute_result"
    }
   ],
   "source": [
    "response = requests.get(RM + '/resources/{}/'.format(resource['id']))\n",
    "response.status_code"
   ]
  },
  {
   "cell_type": "code",
   "execution_count": 35,
   "metadata": {
    "collapsed": false
   },
   "outputs": [
    {
     "data": {
      "text/plain": [
       "{'cluster': '221e4305-d98c-4f43-9953-31087230c606',\n",
       " 'hints': '{\"implementation\": \"3b3770b4-28fd-48d3-a338-4f7225dc11b0\", \"credentials\": \"b5080ecb-7156-42ef-bf63-a851258edab4\"}',\n",
       " 'id': '4e19eb20-7209-4c35-be7b-a481972a7ea6',\n",
       " 'password': '1hgOTOXaE34gCz4TUFoH',\n",
       " 'user': 1,\n",
       " 'username': 'user_YFrbKiTNyWSovMPX3cT7Rl1aD'}"
      ]
     },
     "execution_count": 35,
     "metadata": {},
     "output_type": "execute_result"
    }
   ],
   "source": [
    "response.json()"
   ]
  },
  {
   "cell_type": "code",
   "execution_count": null,
   "metadata": {
    "collapsed": true
   },
   "outputs": [],
   "source": []
  }
 ],
 "metadata": {
  "kernelspec": {
   "display_name": "DIBBs Next Generation",
   "language": "python",
   "name": "dng"
  },
  "language_info": {
   "codemirror_mode": {
    "name": "ipython",
    "version": 3
   },
   "file_extension": ".py",
   "mimetype": "text/x-python",
   "name": "python",
   "nbconvert_exporter": "python",
   "pygments_lexer": "ipython3",
   "version": "3.6.0"
  }
 },
 "nbformat": 4,
 "nbformat_minor": 2
}
