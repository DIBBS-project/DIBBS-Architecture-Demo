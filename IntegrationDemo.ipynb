{
 "cells": [
  {
   "cell_type": "code",
   "execution_count": 1,
   "metadata": {
    "collapsed": true,
    "deletable": true,
    "editable": true
   },
   "outputs": [],
   "source": [
    "import base64\n",
    "import getpass\n",
    "import json\n",
    "\n",
    "import requests"
   ]
  },
  {
   "cell_type": "code",
   "execution_count": 3,
   "metadata": {
    "collapsed": true,
    "deletable": true,
    "editable": true
   },
   "outputs": [],
   "source": [
    "CAS = 'http://localhost:7000'\n",
    "RM = 'http://localhost:8002'\n",
    "AR = 'http://localhost:8003'"
   ]
  },
  {
   "cell_type": "markdown",
   "metadata": {},
   "source": [
    "## Get Token from Auth Service\n",
    "\n",
    "Other services require tokens, the auth service is the only one that deals with the password."
   ]
  },
  {
   "cell_type": "code",
   "execution_count": 2,
   "metadata": {
    "collapsed": true,
    "deletable": true,
    "editable": true
   },
   "outputs": [],
   "source": [
    "username = ['alice', 'bob', 'cindy', 'dave'][0]\n",
    "password = username.upper()"
   ]
  },
  {
   "cell_type": "code",
   "execution_count": 4,
   "metadata": {
    "collapsed": false,
    "deletable": true,
    "editable": true
   },
   "outputs": [],
   "source": [
    "response = requests.post(CAS + '/auth/tokens', json={'username': username, 'password': password})\n",
    "token = response.json()['token']"
   ]
  },
  {
   "cell_type": "markdown",
   "metadata": {},
   "source": [
    "## Define a Site\n",
    "\n",
    "The Sites provide a reference for Implementations and Credentials"
   ]
  },
  {
   "cell_type": "code",
   "execution_count": 5,
   "metadata": {
    "collapsed": false,
    "deletable": true,
    "editable": true
   },
   "outputs": [],
   "source": [
    "response = requests.get(AR + '/sites/')\n",
    "assert response.status_code == 200\n",
    "sites = response.json()"
   ]
  },
  {
   "cell_type": "code",
   "execution_count": 6,
   "metadata": {
    "collapsed": false,
    "deletable": true,
    "editable": true
   },
   "outputs": [],
   "source": [
    "response = requests.post(AR + '/sites/', \n",
    "    headers={'Dibbs-Authorization': token},\n",
    "    json={\n",
    "        'name': 'roger',\n",
    "        'type': 'openstack',\n",
    "        'api_url': 'http://roger-openstack.ncsa.illinois.edu:5000/v2.0',\n",
    "    },\n",
    ")\n",
    "assert response.status_code == 201\n",
    "site = response.json()"
   ]
  },
  {
   "cell_type": "markdown",
   "metadata": {},
   "source": [
    "## Define an Appliance\n",
    "\n",
    "An Appliance is something that provides a consistent API for higher-level functions. In and of itself, this definition doesn't do anything."
   ]
  },
  {
   "cell_type": "code",
   "execution_count": 7,
   "metadata": {
    "collapsed": true,
    "deletable": true,
    "editable": true
   },
   "outputs": [],
   "source": [
    "apps = requests.get(AR + '/appliances/').json()"
   ]
  },
  {
   "cell_type": "code",
   "execution_count": 8,
   "metadata": {
    "collapsed": false,
    "deletable": true,
    "editable": true
   },
   "outputs": [],
   "source": [
    "#requests.delete(AR + '/appliances/{}/'.format(apps[0]['id']),\n",
    "#                headers={'Dibbs-Authorization': token},\n",
    "#)"
   ]
  },
  {
   "cell_type": "code",
   "execution_count": 9,
   "metadata": {
    "collapsed": false,
    "deletable": true,
    "editable": true
   },
   "outputs": [],
   "source": [
    "response = requests.post(AR + '/appliances/', \n",
    "    headers={'Dibbs-Authorization': token},\n",
    "    json={\n",
    "        'name': 'hadoop',\n",
    "        'description': 'Named after an Elephant from the San Diego zoo',\n",
    "    },\n",
    ")\n",
    "assert response.status_code == 201\n",
    "app = response.json()"
   ]
  },
  {
   "cell_type": "markdown",
   "metadata": {},
   "source": [
    "## Define an Implementation\n",
    "\n",
    "The implementation is a HOT (Heat orchestration template) that is set up for a specified site. Some might have additional options, for instance, Chameleon would require a reservation ID.\n",
    "\n",
    "HOT outputs to-be-determined, but should at least include the public IP where the agent is reachable."
   ]
  },
  {
   "cell_type": "code",
   "execution_count": 10,
   "metadata": {
    "collapsed": false,
    "deletable": true,
    "editable": true
   },
   "outputs": [],
   "source": [
    "with open('appliances/hadoop-roger.yml', 'r') as f:\n",
    "    template = f.read()\n",
    "\n",
    "response = requests.post(AR + '/implementations/', \n",
    "    headers={'Dibbs-Authorization': token},\n",
    "    json={\n",
    "        'appliance': app['id'],\n",
    "        'site': site['id'],\n",
    "        'script': template\n",
    "    },\n",
    ")\n",
    "assert response.status_code == 201\n",
    "imp = response.json()"
   ]
  },
  {
   "cell_type": "markdown",
   "metadata": {},
   "source": [
    "## Load (OpenStack) Credentials\n",
    "\n",
    "They're stored in a super-secure (SARCASM WARNING) format: a base64-encoded JSON object. It's mostly to prevent easy screen reading of your password. The required fields in the object are `username`, `password`, and `project_name`."
   ]
  },
  {
   "cell_type": "code",
   "execution_count": 12,
   "metadata": {
    "collapsed": false,
    "deletable": true,
    "editable": true
   },
   "outputs": [],
   "source": [
    "import subprocess\n",
    "\n",
    "def obfuscate(data):\n",
    "    return base64.b64encode(json.dumps(data).encode('utf-8')).decode('utf-8')\n",
    "\n",
    "roger_pass = subprocess.check_output('ssh roger \"cat ~/.openstack\"', shell=True, universal_newlines=True).strip()\n",
    "creds = {\n",
    "    'username': 'npt',\n",
    "    'password': roger_pass,\n",
    "    'project_name': 'DIBBs',\n",
    "}\n",
    "cred_string = obfuscate(creds)"
   ]
  },
  {
   "cell_type": "code",
   "execution_count": 13,
   "metadata": {
    "collapsed": false,
    "deletable": true,
    "editable": true
   },
   "outputs": [],
   "source": [
    "response = requests.post(RM + '/credentials/',\n",
    "    headers={'Dibbs-Authorization': token},\n",
    "    json={\n",
    "        'name': 'me-keys',\n",
    "        'site': site['id'],\n",
    "        'credentials': cred_string,\n",
    "    }\n",
    ")\n",
    "assert response.status_code == 201\n",
    "creds = response.json()"
   ]
  },
  {
   "cell_type": "markdown",
   "metadata": {},
   "source": [
    "## Create a Cluster\n",
    "\n",
    "(this is actually performed by get-creating the Resource, this is semi-internal)"
   ]
  },
  {
   "cell_type": "code",
   "execution_count": 14,
   "metadata": {
    "collapsed": false,
    "deletable": true,
    "editable": true
   },
   "outputs": [],
   "source": [
    "# response = requests.post(RM + '/clusters/',\n",
    "#     headers={'Dibbs-Authorization': token},\n",
    "#     json={\n",
    "#         'credential': creds['id'],\n",
    "#         'implementation': imp['id'],\n",
    "#     }\n",
    "# )\n",
    "# assert response.status_code == 201\n",
    "# cluster = response.json()"
   ]
  },
  {
   "cell_type": "code",
   "execution_count": 15,
   "metadata": {
    "collapsed": false,
    "deletable": true,
    "editable": true
   },
   "outputs": [
    {
     "data": {
      "text/plain": [
       "{'address': '',\n",
       " 'credential': '0f94355d-6219-4111-94c7-93f2cd393cb2',\n",
       " 'id': '2c99baa7-0d61-421f-9367-5d209839640b',\n",
       " 'implementation': '5e238dcd-b9cc-41bc-9f38-378bc6bf490e',\n",
       " 'remote_id': '1314d3c1-8c6e-4cdf-8ea8-2a83cbea4852',\n",
       " 'remote_status': 'CREATE_IN_PROGRESS',\n",
       " 'root_owner': 1,\n",
       " 'status': 'BUILDING'}"
      ]
     },
     "execution_count": 15,
     "metadata": {},
     "output_type": "execute_result"
    }
   ],
   "source": [
    "# cluster"
   ]
  },
  {
   "cell_type": "code",
   "execution_count": 28,
   "metadata": {
    "collapsed": false,
    "deletable": true,
    "editable": true
   },
   "outputs": [
    {
     "data": {
      "text/plain": [
       "204"
      ]
     },
     "execution_count": 28,
     "metadata": {},
     "output_type": "execute_result"
    }
   ],
   "source": [
    "# Deleting a cluster\n",
    "response = requests.delete(RM + '/clusters/{}/'.format('13f3c9e8-8ff6-46fd-ba5a-b715f2dbce78'),\n",
    "    headers={'Dibbs-Authorization': token},\n",
    ")\n",
    "response.status_code"
   ]
  },
  {
   "cell_type": "code",
   "execution_count": 27,
   "metadata": {
    "collapsed": false,
    "deletable": true,
    "editable": true
   },
   "outputs": [
    {
     "data": {
      "text/plain": [
       "[{'address': '141.142.170.218',\n",
       "  'credential': '0f94355d-6219-4111-94c7-93f2cd393cb2',\n",
       "  'id': '13f3c9e8-8ff6-46fd-ba5a-b715f2dbce78',\n",
       "  'implementation': '5e238dcd-b9cc-41bc-9f38-378bc6bf490e',\n",
       "  'remote_id': '0093d846-9993-4dd7-b1a4-e2e5a1b09a9b',\n",
       "  'remote_status': 'CREATE_COMPLETE',\n",
       "  'root_owner': 1,\n",
       "  'status': 'READY'}]"
      ]
     },
     "execution_count": 27,
     "metadata": {},
     "output_type": "execute_result"
    }
   ],
   "source": [
    "requests.get(RM + '/clusters/').json()"
   ]
  },
  {
   "cell_type": "markdown",
   "metadata": {},
   "source": [
    "## Get/Create a Resource\n",
    "\n",
    "The hints are fairly heavy-handed for now, the credentials and implementation must be specified."
   ]
  },
  {
   "cell_type": "code",
   "execution_count": 21,
   "metadata": {
    "collapsed": false,
    "deletable": true,
    "editable": true
   },
   "outputs": [],
   "source": [
    "response = requests.post(RM + '/resources/', \n",
    "    headers={'Dibbs-Authorization': token},\n",
    "    json={\n",
    "        'hints': {\n",
    "            'implementation': imp['id'],\n",
    "            'credentials': creds['id'],\n",
    "        },\n",
    "    }\n",
    ")\n",
    "assert response.status_code == 201\n",
    "resource = response.json()"
   ]
  },
  {
   "cell_type": "code",
   "execution_count": 22,
   "metadata": {
    "collapsed": false,
    "deletable": true,
    "editable": true
   },
   "outputs": [
    {
     "data": {
      "text/plain": [
       "{'cluster': '13f3c9e8-8ff6-46fd-ba5a-b715f2dbce78',\n",
       " 'hints': '{\"implementation\": \"5e238dcd-b9cc-41bc-9f38-378bc6bf490e\", \"credentials\": \"0f94355d-6219-4111-94c7-93f2cd393cb2\"}',\n",
       " 'id': 'c2e90c19-9f89-46d9-9237-cb1252f2f50d',\n",
       " 'password': '',\n",
       " 'user': 1,\n",
       " 'username': ''}"
      ]
     },
     "execution_count": 22,
     "metadata": {},
     "output_type": "execute_result"
    }
   ],
   "source": [
    "resource"
   ]
  },
  {
   "cell_type": "code",
   "execution_count": 24,
   "metadata": {
    "collapsed": false
   },
   "outputs": [
    {
     "data": {
      "text/plain": [
       "{'address': '141.142.170.218',\n",
       " 'credential': '0f94355d-6219-4111-94c7-93f2cd393cb2',\n",
       " 'id': '13f3c9e8-8ff6-46fd-ba5a-b715f2dbce78',\n",
       " 'implementation': '5e238dcd-b9cc-41bc-9f38-378bc6bf490e',\n",
       " 'remote_id': '0093d846-9993-4dd7-b1a4-e2e5a1b09a9b',\n",
       " 'remote_status': 'CREATE_COMPLETE',\n",
       " 'root_owner': 1,\n",
       " 'status': 'READY'}"
      ]
     },
     "execution_count": 24,
     "metadata": {},
     "output_type": "execute_result"
    }
   ],
   "source": [
    "requests.get(RM + '/clusters/{}/'.format(resource['cluster'])).json()"
   ]
  },
  {
   "cell_type": "code",
   "execution_count": 25,
   "metadata": {
    "collapsed": false,
    "deletable": true,
    "editable": true
   },
   "outputs": [
    {
     "data": {
      "text/plain": [
       "{'cluster': '13f3c9e8-8ff6-46fd-ba5a-b715f2dbce78',\n",
       " 'hints': '{\"implementation\": \"5e238dcd-b9cc-41bc-9f38-378bc6bf490e\", \"credentials\": \"0f94355d-6219-4111-94c7-93f2cd393cb2\"}',\n",
       " 'id': 'c2e90c19-9f89-46d9-9237-cb1252f2f50d',\n",
       " 'password': '',\n",
       " 'user': 1,\n",
       " 'username': ''}"
      ]
     },
     "execution_count": 25,
     "metadata": {},
     "output_type": "execute_result"
    }
   ],
   "source": [
    "response = requests.get(RM + '/resources/{}/'.format(resource['id']))\n",
    "assert response.status_code == 200\n",
    "response.json()"
   ]
  },
  {
   "cell_type": "raw",
   "metadata": {
    "collapsed": true,
    "deletable": true,
    "editable": true
   },
   "source": []
  }
 ],
 "metadata": {
  "kernelspec": {
   "display_name": "Python 3.6",
   "language": "python",
   "name": "py36"
  },
  "language_info": {
   "codemirror_mode": {
    "name": "ipython",
    "version": 3
   },
   "file_extension": ".py",
   "mimetype": "text/x-python",
   "name": "python",
   "nbconvert_exporter": "python",
   "pygments_lexer": "ipython3",
   "version": "3.6.1rc1"
  }
 },
 "nbformat": 4,
 "nbformat_minor": 2
}
